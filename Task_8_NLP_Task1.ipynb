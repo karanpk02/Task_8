{
  "nbformat": 4,
  "nbformat_minor": 0,
  "metadata": {
    "colab": {
      "name": "Task_8_NLP_Task1.ipynb",
      "provenance": [],
      "collapsed_sections": [],
      "authorship_tag": "ABX9TyOnrO+SjEfEkZkDL5Xp7Gg7",
      "include_colab_link": true
    },
    "kernelspec": {
      "name": "python3",
      "display_name": "Python 3"
    },
    "language_info": {
      "name": "python"
    }
  },
  "cells": [
    {
      "cell_type": "markdown",
      "metadata": {
        "id": "view-in-github",
        "colab_type": "text"
      },
      "source": [
        "<a href=\"https://colab.research.google.com/github/karanpk02/Task_8/blob/main/Task_8_NLP_Task1.ipynb\" target=\"_parent\"><img src=\"https://colab.research.google.com/assets/colab-badge.svg\" alt=\"Open In Colab\"/></a>"
      ]
    },
    {
      "cell_type": "markdown",
      "source": [
        "#**Natural Language Processing Task**\n",
        "##**Task-1**\n",
        "\n",
        "You need to translate each word or sentence from English to Spanish, French and German \n",
        "\n",
        "Data Set : https://drive.google.com/file/d/1YMHJjblc8dDzUN1ry8BOCnAR4_TyKmXM/view?usp=sharing\n",
        " \n",
        "\n",
        "##**Task-2**\n",
        "\n",
        "Create a program that needs to automatically correct that spelling from the word or a given sentence. (Language : English) \n",
        "Note:  show 100 data point outputs both in words and sentence. \n",
        "\n",
        "\n",
        "\n",
        "##**Task-3**\n",
        "\n",
        "Create an application that should be used by the HR Team to filter the resume based on the Skills.\n",
        "\n",
        "\n",
        "##**Task-4**\n",
        "Create a chatbot for Hotel Management to Book Rooms \n",
        "\n",
        "###**Details collected from :** \n",
        "Customer Name, Mobile Number, Address, ID proof, and Room Type and date of arrival and departure date. Keep some eligibility to Book the Room .\n",
        "All through voice to text classifications"
      ],
      "metadata": {
        "id": "SYBRtQj6uXQo"
      }
    },
    {
      "cell_type": "code",
      "source": [
        "import pandas as pd"
      ],
      "metadata": {
        "id": "eIdJssmUJCAv"
      },
      "execution_count": 4,
      "outputs": []
    },
    {
      "cell_type": "markdown",
      "source": [
        "#**TASK_1**"
      ],
      "metadata": {
        "id": "h7DPy1F3InEm"
      }
    },
    {
      "cell_type": "markdown",
      "source": [
        "IMPORT DATA SET"
      ],
      "metadata": {
        "id": "72JT53JmIzGy"
      }
    },
    {
      "cell_type": "code",
      "source": [
        "df = pd.read_csv('https://raw.githubusercontent.com/karanpk02/Task_8/main/English.csv')"
      ],
      "metadata": {
        "id": "CUw7asDrI-e0"
      },
      "execution_count": 11,
      "outputs": []
    },
    {
      "cell_type": "code",
      "source": [
        "df = df.sample(frac=0.01)"
      ],
      "metadata": {
        "id": "lnPR5pxXhOku"
      },
      "execution_count": 14,
      "outputs": []
    },
    {
      "cell_type": "code",
      "source": [
        "df.shape"
      ],
      "metadata": {
        "colab": {
          "base_uri": "https://localhost:8080/"
        },
        "id": "or0MPUuQowij",
        "outputId": "fbfa6e8b-f7cf-4aa4-fc60-309ea0d4f820"
      },
      "execution_count": 15,
      "outputs": [
        {
          "output_type": "execute_result",
          "data": {
            "text/plain": [
              "(176, 1)"
            ]
          },
          "metadata": {},
          "execution_count": 15
        }
      ]
    },
    {
      "cell_type": "code",
      "source": [
        "df=df.rename(columns={'English words/sentences':'English'})"
      ],
      "metadata": {
        "id": "XV51pvodPGCy"
      },
      "execution_count": 16,
      "outputs": []
    },
    {
      "cell_type": "code",
      "source": [
        "df.head()"
      ],
      "metadata": {
        "colab": {
          "base_uri": "https://localhost:8080/",
          "height": 206
        },
        "id": "YhK09htWJYd8",
        "outputId": "99b80dc9-2bb2-4262-9d18-65dc9037314d"
      },
      "execution_count": 17,
      "outputs": [
        {
          "output_type": "execute_result",
          "data": {
            "text/plain": [
              "                                                  English\n",
              "51452                             What are you scared of?\n",
              "100423                     Who told you to bring me here?\n",
              "17602                                   You're shivering.\n",
              "168386  A journey of a thousand miles begins with a si...\n",
              "135485              Was it hard for you to find my house?"
            ],
            "text/html": [
              "\n",
              "  <div id=\"df-97cd4932-721d-43d0-a2be-87a91131211e\">\n",
              "    <div class=\"colab-df-container\">\n",
              "      <div>\n",
              "<style scoped>\n",
              "    .dataframe tbody tr th:only-of-type {\n",
              "        vertical-align: middle;\n",
              "    }\n",
              "\n",
              "    .dataframe tbody tr th {\n",
              "        vertical-align: top;\n",
              "    }\n",
              "\n",
              "    .dataframe thead th {\n",
              "        text-align: right;\n",
              "    }\n",
              "</style>\n",
              "<table border=\"1\" class=\"dataframe\">\n",
              "  <thead>\n",
              "    <tr style=\"text-align: right;\">\n",
              "      <th></th>\n",
              "      <th>English</th>\n",
              "    </tr>\n",
              "  </thead>\n",
              "  <tbody>\n",
              "    <tr>\n",
              "      <th>51452</th>\n",
              "      <td>What are you scared of?</td>\n",
              "    </tr>\n",
              "    <tr>\n",
              "      <th>100423</th>\n",
              "      <td>Who told you to bring me here?</td>\n",
              "    </tr>\n",
              "    <tr>\n",
              "      <th>17602</th>\n",
              "      <td>You're shivering.</td>\n",
              "    </tr>\n",
              "    <tr>\n",
              "      <th>168386</th>\n",
              "      <td>A journey of a thousand miles begins with a si...</td>\n",
              "    </tr>\n",
              "    <tr>\n",
              "      <th>135485</th>\n",
              "      <td>Was it hard for you to find my house?</td>\n",
              "    </tr>\n",
              "  </tbody>\n",
              "</table>\n",
              "</div>\n",
              "      <button class=\"colab-df-convert\" onclick=\"convertToInteractive('df-97cd4932-721d-43d0-a2be-87a91131211e')\"\n",
              "              title=\"Convert this dataframe to an interactive table.\"\n",
              "              style=\"display:none;\">\n",
              "        \n",
              "  <svg xmlns=\"http://www.w3.org/2000/svg\" height=\"24px\"viewBox=\"0 0 24 24\"\n",
              "       width=\"24px\">\n",
              "    <path d=\"M0 0h24v24H0V0z\" fill=\"none\"/>\n",
              "    <path d=\"M18.56 5.44l.94 2.06.94-2.06 2.06-.94-2.06-.94-.94-2.06-.94 2.06-2.06.94zm-11 1L8.5 8.5l.94-2.06 2.06-.94-2.06-.94L8.5 2.5l-.94 2.06-2.06.94zm10 10l.94 2.06.94-2.06 2.06-.94-2.06-.94-.94-2.06-.94 2.06-2.06.94z\"/><path d=\"M17.41 7.96l-1.37-1.37c-.4-.4-.92-.59-1.43-.59-.52 0-1.04.2-1.43.59L10.3 9.45l-7.72 7.72c-.78.78-.78 2.05 0 2.83L4 21.41c.39.39.9.59 1.41.59.51 0 1.02-.2 1.41-.59l7.78-7.78 2.81-2.81c.8-.78.8-2.07 0-2.86zM5.41 20L4 18.59l7.72-7.72 1.47 1.35L5.41 20z\"/>\n",
              "  </svg>\n",
              "      </button>\n",
              "      \n",
              "  <style>\n",
              "    .colab-df-container {\n",
              "      display:flex;\n",
              "      flex-wrap:wrap;\n",
              "      gap: 12px;\n",
              "    }\n",
              "\n",
              "    .colab-df-convert {\n",
              "      background-color: #E8F0FE;\n",
              "      border: none;\n",
              "      border-radius: 50%;\n",
              "      cursor: pointer;\n",
              "      display: none;\n",
              "      fill: #1967D2;\n",
              "      height: 32px;\n",
              "      padding: 0 0 0 0;\n",
              "      width: 32px;\n",
              "    }\n",
              "\n",
              "    .colab-df-convert:hover {\n",
              "      background-color: #E2EBFA;\n",
              "      box-shadow: 0px 1px 2px rgba(60, 64, 67, 0.3), 0px 1px 3px 1px rgba(60, 64, 67, 0.15);\n",
              "      fill: #174EA6;\n",
              "    }\n",
              "\n",
              "    [theme=dark] .colab-df-convert {\n",
              "      background-color: #3B4455;\n",
              "      fill: #D2E3FC;\n",
              "    }\n",
              "\n",
              "    [theme=dark] .colab-df-convert:hover {\n",
              "      background-color: #434B5C;\n",
              "      box-shadow: 0px 1px 3px 1px rgba(0, 0, 0, 0.15);\n",
              "      filter: drop-shadow(0px 1px 2px rgba(0, 0, 0, 0.3));\n",
              "      fill: #FFFFFF;\n",
              "    }\n",
              "  </style>\n",
              "\n",
              "      <script>\n",
              "        const buttonEl =\n",
              "          document.querySelector('#df-97cd4932-721d-43d0-a2be-87a91131211e button.colab-df-convert');\n",
              "        buttonEl.style.display =\n",
              "          google.colab.kernel.accessAllowed ? 'block' : 'none';\n",
              "\n",
              "        async function convertToInteractive(key) {\n",
              "          const element = document.querySelector('#df-97cd4932-721d-43d0-a2be-87a91131211e');\n",
              "          const dataTable =\n",
              "            await google.colab.kernel.invokeFunction('convertToInteractive',\n",
              "                                                     [key], {});\n",
              "          if (!dataTable) return;\n",
              "\n",
              "          const docLinkHtml = 'Like what you see? Visit the ' +\n",
              "            '<a target=\"_blank\" href=https://colab.research.google.com/notebooks/data_table.ipynb>data table notebook</a>'\n",
              "            + ' to learn more about interactive tables.';\n",
              "          element.innerHTML = '';\n",
              "          dataTable['output_type'] = 'display_data';\n",
              "          await google.colab.output.renderOutput(dataTable, element);\n",
              "          const docLink = document.createElement('div');\n",
              "          docLink.innerHTML = docLinkHtml;\n",
              "          element.appendChild(docLink);\n",
              "        }\n",
              "      </script>\n",
              "    </div>\n",
              "  </div>\n",
              "  "
            ]
          },
          "metadata": {},
          "execution_count": 17
        }
      ]
    },
    {
      "cell_type": "markdown",
      "source": [
        "NEXT WE NEED TO TRANSLATE THE GIVEN SENTENCES"
      ],
      "metadata": {
        "id": "hppDy1VJJgmA"
      }
    },
    {
      "cell_type": "markdown",
      "source": [
        "Text translation from one language to another is increasingly becoming common for various websites as they cater to an international audience. The python package which helps us do this is called translate.\n",
        "\n",
        "This package can be installed by the following way. It provides translation for major languages.\n",
        "**REFERENCE**\n",
        "[link text](https://www.tutorialspoint.com/python_text_processing/python_text_translation.htm)"
      ],
      "metadata": {
        "id": "_wWSSf-QJqCP"
      }
    },
    {
      "cell_type": "code",
      "source": [
        "#!pip install translate\n",
        "!pip install googletrans==3.1.0a0"
      ],
      "metadata": {
        "colab": {
          "base_uri": "https://localhost:8080/"
        },
        "id": "JbxBtf_iKQEA",
        "outputId": "a3800e4e-e978-479f-98f4-213aa04c4296"
      },
      "execution_count": 18,
      "outputs": [
        {
          "output_type": "stream",
          "name": "stdout",
          "text": [
            "Looking in indexes: https://pypi.org/simple, https://us-python.pkg.dev/colab-wheels/public/simple/\n",
            "Requirement already satisfied: googletrans==3.1.0a0 in /usr/local/lib/python3.7/dist-packages (3.1.0a0)\n",
            "Requirement already satisfied: httpx==0.13.3 in /usr/local/lib/python3.7/dist-packages (from googletrans==3.1.0a0) (0.13.3)\n",
            "Requirement already satisfied: httpcore==0.9.* in /usr/local/lib/python3.7/dist-packages (from httpx==0.13.3->googletrans==3.1.0a0) (0.9.1)\n",
            "Requirement already satisfied: certifi in /usr/local/lib/python3.7/dist-packages (from httpx==0.13.3->googletrans==3.1.0a0) (2022.6.15)\n",
            "Requirement already satisfied: idna==2.* in /usr/local/lib/python3.7/dist-packages (from httpx==0.13.3->googletrans==3.1.0a0) (2.10)\n",
            "Requirement already satisfied: sniffio in /usr/local/lib/python3.7/dist-packages (from httpx==0.13.3->googletrans==3.1.0a0) (1.2.0)\n",
            "Requirement already satisfied: hstspreload in /usr/local/lib/python3.7/dist-packages (from httpx==0.13.3->googletrans==3.1.0a0) (2022.8.1)\n",
            "Requirement already satisfied: rfc3986<2,>=1.3 in /usr/local/lib/python3.7/dist-packages (from httpx==0.13.3->googletrans==3.1.0a0) (1.5.0)\n",
            "Requirement already satisfied: chardet==3.* in /usr/local/lib/python3.7/dist-packages (from httpx==0.13.3->googletrans==3.1.0a0) (3.0.4)\n",
            "Requirement already satisfied: h11<0.10,>=0.8 in /usr/local/lib/python3.7/dist-packages (from httpcore==0.9.*->httpx==0.13.3->googletrans==3.1.0a0) (0.9.0)\n",
            "Requirement already satisfied: h2==3.* in /usr/local/lib/python3.7/dist-packages (from httpcore==0.9.*->httpx==0.13.3->googletrans==3.1.0a0) (3.2.0)\n",
            "Requirement already satisfied: hyperframe<6,>=5.2.0 in /usr/local/lib/python3.7/dist-packages (from h2==3.*->httpcore==0.9.*->httpx==0.13.3->googletrans==3.1.0a0) (5.2.0)\n",
            "Requirement already satisfied: hpack<4,>=3.0 in /usr/local/lib/python3.7/dist-packages (from h2==3.*->httpcore==0.9.*->httpx==0.13.3->googletrans==3.1.0a0) (3.0.0)\n"
          ]
        }
      ]
    },
    {
      "cell_type": "markdown",
      "source": [
        "Translate English to **Spanish, French and German**"
      ],
      "metadata": {
        "id": "SL5M2LrdLUfs"
      }
    },
    {
      "cell_type": "code",
      "source": [
        "# from translate import Translator\n",
        "import googletrans\n",
        "from googletrans import Translator"
      ],
      "metadata": {
        "id": "_pmIPpE8KkDv"
      },
      "execution_count": 19,
      "outputs": []
    },
    {
      "cell_type": "code",
      "source": [
        "print(googletrans.LANGUAGES)"
      ],
      "metadata": {
        "colab": {
          "base_uri": "https://localhost:8080/"
        },
        "id": "nzarRiyQj0HZ",
        "outputId": "a9ada3eb-53be-474a-c575-2b0722c37b2c"
      },
      "execution_count": 22,
      "outputs": [
        {
          "output_type": "stream",
          "name": "stdout",
          "text": [
            "{'af': 'afrikaans', 'sq': 'albanian', 'am': 'amharic', 'ar': 'arabic', 'hy': 'armenian', 'az': 'azerbaijani', 'eu': 'basque', 'be': 'belarusian', 'bn': 'bengali', 'bs': 'bosnian', 'bg': 'bulgarian', 'ca': 'catalan', 'ceb': 'cebuano', 'ny': 'chichewa', 'zh-cn': 'chinese (simplified)', 'zh-tw': 'chinese (traditional)', 'co': 'corsican', 'hr': 'croatian', 'cs': 'czech', 'da': 'danish', 'nl': 'dutch', 'en': 'english', 'eo': 'esperanto', 'et': 'estonian', 'tl': 'filipino', 'fi': 'finnish', 'fr': 'french', 'fy': 'frisian', 'gl': 'galician', 'ka': 'georgian', 'de': 'german', 'el': 'greek', 'gu': 'gujarati', 'ht': 'haitian creole', 'ha': 'hausa', 'haw': 'hawaiian', 'iw': 'hebrew', 'he': 'hebrew', 'hi': 'hindi', 'hmn': 'hmong', 'hu': 'hungarian', 'is': 'icelandic', 'ig': 'igbo', 'id': 'indonesian', 'ga': 'irish', 'it': 'italian', 'ja': 'japanese', 'jw': 'javanese', 'kn': 'kannada', 'kk': 'kazakh', 'km': 'khmer', 'ko': 'korean', 'ku': 'kurdish (kurmanji)', 'ky': 'kyrgyz', 'lo': 'lao', 'la': 'latin', 'lv': 'latvian', 'lt': 'lithuanian', 'lb': 'luxembourgish', 'mk': 'macedonian', 'mg': 'malagasy', 'ms': 'malay', 'ml': 'malayalam', 'mt': 'maltese', 'mi': 'maori', 'mr': 'marathi', 'mn': 'mongolian', 'my': 'myanmar (burmese)', 'ne': 'nepali', 'no': 'norwegian', 'or': 'odia', 'ps': 'pashto', 'fa': 'persian', 'pl': 'polish', 'pt': 'portuguese', 'pa': 'punjabi', 'ro': 'romanian', 'ru': 'russian', 'sm': 'samoan', 'gd': 'scots gaelic', 'sr': 'serbian', 'st': 'sesotho', 'sn': 'shona', 'sd': 'sindhi', 'si': 'sinhala', 'sk': 'slovak', 'sl': 'slovenian', 'so': 'somali', 'es': 'spanish', 'su': 'sundanese', 'sw': 'swahili', 'sv': 'swedish', 'tg': 'tajik', 'ta': 'tamil', 'te': 'telugu', 'th': 'thai', 'tr': 'turkish', 'uk': 'ukrainian', 'ur': 'urdu', 'ug': 'uyghur', 'uz': 'uzbek', 'vi': 'vietnamese', 'cy': 'welsh', 'xh': 'xhosa', 'yi': 'yiddish', 'yo': 'yoruba', 'zu': 'zulu'}\n"
          ]
        }
      ]
    },
    {
      "cell_type": "code",
      "source": [
        "df.shape"
      ],
      "metadata": {
        "colab": {
          "base_uri": "https://localhost:8080/"
        },
        "id": "wOxTx_ItMQn5",
        "outputId": "9a7b5116-93a0-481f-ad09-8fe89f145c79"
      },
      "execution_count": 20,
      "outputs": [
        {
          "output_type": "execute_result",
          "data": {
            "text/plain": [
              "(176, 1)"
            ]
          },
          "metadata": {},
          "execution_count": 20
        }
      ]
    },
    {
      "cell_type": "markdown",
      "source": [
        "Initialize the translators"
      ],
      "metadata": {
        "id": "AKmvHdKBNEEL"
      }
    },
    {
      "cell_type": "code",
      "source": [
        "translator= Translator(to_lang=\"Spanish\")\n",
        "translator1= Translator(to_lang=\"French\")\n",
        "translator2= Translator(to_lang=\"German\")\n"
      ],
      "metadata": {
        "id": "pphbssY2Mfko"
      },
      "execution_count": 12,
      "outputs": []
    },
    {
      "cell_type": "code",
      "source": [
        "df.English "
      ],
      "metadata": {
        "colab": {
          "base_uri": "https://localhost:8080/"
        },
        "id": "eann4QlfOsHa",
        "outputId": "a979e6d1-1aee-4b59-abec-00703e58426d"
      },
      "execution_count": 13,
      "outputs": [
        {
          "output_type": "execute_result",
          "data": {
            "text/plain": [
              "111355         The meeting was just about over.\n",
              "109540         I still plan to do that someday.\n",
              "86785              What are you accusing me of?\n",
              "90105             I need to show you something.\n",
              "52912                  Do you have a lot to do?\n",
              "                          ...                  \n",
              "123783      Do you still have feelings for her?\n",
              "134491    Our train went through a long tunnel.\n",
              "132603    Don't worry. They will be supervised.\n",
              "135652    What games do you have on your phone?\n",
              "12453                          They're cousins.\n",
              "Name: English, Length: 52686, dtype: object"
            ]
          },
          "metadata": {},
          "execution_count": 13
        }
      ]
    },
    {
      "cell_type": "code",
      "source": [
        "translator = Translator()\n",
        "df['Spanish'] = df['English'].apply(translator.translate, src='en', dest='es').apply(getattr, args=('text',))\n",
        "df"
      ],
      "metadata": {
        "colab": {
          "base_uri": "https://localhost:8080/",
          "height": 424
        },
        "id": "taqONjCPOVDB",
        "outputId": "01eb6aaf-aa80-45ce-9201-fa557b608659"
      },
      "execution_count": 21,
      "outputs": [
        {
          "output_type": "execute_result",
          "data": {
            "text/plain": [
              "                                                  English  \\\n",
              "51452                             What are you scared of?   \n",
              "100423                     Who told you to bring me here?   \n",
              "17602                                   You're shivering.   \n",
              "168386  A journey of a thousand miles begins with a si...   \n",
              "135485              Was it hard for you to find my house?   \n",
              "...                                                   ...   \n",
              "96685                      I just thought you were happy.   \n",
              "41304                              I felt rather puzzled.   \n",
              "112162                   We have to keep working on that.   \n",
              "50622                             This is the guest room.   \n",
              "49215                             It's for you to decide.   \n",
              "\n",
              "                                                  Spanish  \n",
              "51452                               ¿De qué tienes miedo?  \n",
              "100423               ¿Quién te dijo que me trajeras aquí?  \n",
              "17602                                    Estás temblando.  \n",
              "168386  Un viaje de mil millas comienza con un solo paso.  \n",
              "135485                       ¿Te costó encontrar mi casa?  \n",
              "...                                                   ...  \n",
              "96685                          Solo pensé que eras feliz.  \n",
              "41304                    Me sentí bastante desconcertado.  \n",
              "112162              Tenemos que seguir trabajando en eso.  \n",
              "50622                 Esta es la habitación de invitados.  \n",
              "49215                           Es para que usted decida.  \n",
              "\n",
              "[176 rows x 2 columns]"
            ],
            "text/html": [
              "\n",
              "  <div id=\"df-a504a4c8-b6ff-45a0-8de2-3ba2395e2514\">\n",
              "    <div class=\"colab-df-container\">\n",
              "      <div>\n",
              "<style scoped>\n",
              "    .dataframe tbody tr th:only-of-type {\n",
              "        vertical-align: middle;\n",
              "    }\n",
              "\n",
              "    .dataframe tbody tr th {\n",
              "        vertical-align: top;\n",
              "    }\n",
              "\n",
              "    .dataframe thead th {\n",
              "        text-align: right;\n",
              "    }\n",
              "</style>\n",
              "<table border=\"1\" class=\"dataframe\">\n",
              "  <thead>\n",
              "    <tr style=\"text-align: right;\">\n",
              "      <th></th>\n",
              "      <th>English</th>\n",
              "      <th>Spanish</th>\n",
              "    </tr>\n",
              "  </thead>\n",
              "  <tbody>\n",
              "    <tr>\n",
              "      <th>51452</th>\n",
              "      <td>What are you scared of?</td>\n",
              "      <td>¿De qué tienes miedo?</td>\n",
              "    </tr>\n",
              "    <tr>\n",
              "      <th>100423</th>\n",
              "      <td>Who told you to bring me here?</td>\n",
              "      <td>¿Quién te dijo que me trajeras aquí?</td>\n",
              "    </tr>\n",
              "    <tr>\n",
              "      <th>17602</th>\n",
              "      <td>You're shivering.</td>\n",
              "      <td>Estás temblando.</td>\n",
              "    </tr>\n",
              "    <tr>\n",
              "      <th>168386</th>\n",
              "      <td>A journey of a thousand miles begins with a si...</td>\n",
              "      <td>Un viaje de mil millas comienza con un solo paso.</td>\n",
              "    </tr>\n",
              "    <tr>\n",
              "      <th>135485</th>\n",
              "      <td>Was it hard for you to find my house?</td>\n",
              "      <td>¿Te costó encontrar mi casa?</td>\n",
              "    </tr>\n",
              "    <tr>\n",
              "      <th>...</th>\n",
              "      <td>...</td>\n",
              "      <td>...</td>\n",
              "    </tr>\n",
              "    <tr>\n",
              "      <th>96685</th>\n",
              "      <td>I just thought you were happy.</td>\n",
              "      <td>Solo pensé que eras feliz.</td>\n",
              "    </tr>\n",
              "    <tr>\n",
              "      <th>41304</th>\n",
              "      <td>I felt rather puzzled.</td>\n",
              "      <td>Me sentí bastante desconcertado.</td>\n",
              "    </tr>\n",
              "    <tr>\n",
              "      <th>112162</th>\n",
              "      <td>We have to keep working on that.</td>\n",
              "      <td>Tenemos que seguir trabajando en eso.</td>\n",
              "    </tr>\n",
              "    <tr>\n",
              "      <th>50622</th>\n",
              "      <td>This is the guest room.</td>\n",
              "      <td>Esta es la habitación de invitados.</td>\n",
              "    </tr>\n",
              "    <tr>\n",
              "      <th>49215</th>\n",
              "      <td>It's for you to decide.</td>\n",
              "      <td>Es para que usted decida.</td>\n",
              "    </tr>\n",
              "  </tbody>\n",
              "</table>\n",
              "<p>176 rows × 2 columns</p>\n",
              "</div>\n",
              "      <button class=\"colab-df-convert\" onclick=\"convertToInteractive('df-a504a4c8-b6ff-45a0-8de2-3ba2395e2514')\"\n",
              "              title=\"Convert this dataframe to an interactive table.\"\n",
              "              style=\"display:none;\">\n",
              "        \n",
              "  <svg xmlns=\"http://www.w3.org/2000/svg\" height=\"24px\"viewBox=\"0 0 24 24\"\n",
              "       width=\"24px\">\n",
              "    <path d=\"M0 0h24v24H0V0z\" fill=\"none\"/>\n",
              "    <path d=\"M18.56 5.44l.94 2.06.94-2.06 2.06-.94-2.06-.94-.94-2.06-.94 2.06-2.06.94zm-11 1L8.5 8.5l.94-2.06 2.06-.94-2.06-.94L8.5 2.5l-.94 2.06-2.06.94zm10 10l.94 2.06.94-2.06 2.06-.94-2.06-.94-.94-2.06-.94 2.06-2.06.94z\"/><path d=\"M17.41 7.96l-1.37-1.37c-.4-.4-.92-.59-1.43-.59-.52 0-1.04.2-1.43.59L10.3 9.45l-7.72 7.72c-.78.78-.78 2.05 0 2.83L4 21.41c.39.39.9.59 1.41.59.51 0 1.02-.2 1.41-.59l7.78-7.78 2.81-2.81c.8-.78.8-2.07 0-2.86zM5.41 20L4 18.59l7.72-7.72 1.47 1.35L5.41 20z\"/>\n",
              "  </svg>\n",
              "      </button>\n",
              "      \n",
              "  <style>\n",
              "    .colab-df-container {\n",
              "      display:flex;\n",
              "      flex-wrap:wrap;\n",
              "      gap: 12px;\n",
              "    }\n",
              "\n",
              "    .colab-df-convert {\n",
              "      background-color: #E8F0FE;\n",
              "      border: none;\n",
              "      border-radius: 50%;\n",
              "      cursor: pointer;\n",
              "      display: none;\n",
              "      fill: #1967D2;\n",
              "      height: 32px;\n",
              "      padding: 0 0 0 0;\n",
              "      width: 32px;\n",
              "    }\n",
              "\n",
              "    .colab-df-convert:hover {\n",
              "      background-color: #E2EBFA;\n",
              "      box-shadow: 0px 1px 2px rgba(60, 64, 67, 0.3), 0px 1px 3px 1px rgba(60, 64, 67, 0.15);\n",
              "      fill: #174EA6;\n",
              "    }\n",
              "\n",
              "    [theme=dark] .colab-df-convert {\n",
              "      background-color: #3B4455;\n",
              "      fill: #D2E3FC;\n",
              "    }\n",
              "\n",
              "    [theme=dark] .colab-df-convert:hover {\n",
              "      background-color: #434B5C;\n",
              "      box-shadow: 0px 1px 3px 1px rgba(0, 0, 0, 0.15);\n",
              "      filter: drop-shadow(0px 1px 2px rgba(0, 0, 0, 0.3));\n",
              "      fill: #FFFFFF;\n",
              "    }\n",
              "  </style>\n",
              "\n",
              "      <script>\n",
              "        const buttonEl =\n",
              "          document.querySelector('#df-a504a4c8-b6ff-45a0-8de2-3ba2395e2514 button.colab-df-convert');\n",
              "        buttonEl.style.display =\n",
              "          google.colab.kernel.accessAllowed ? 'block' : 'none';\n",
              "\n",
              "        async function convertToInteractive(key) {\n",
              "          const element = document.querySelector('#df-a504a4c8-b6ff-45a0-8de2-3ba2395e2514');\n",
              "          const dataTable =\n",
              "            await google.colab.kernel.invokeFunction('convertToInteractive',\n",
              "                                                     [key], {});\n",
              "          if (!dataTable) return;\n",
              "\n",
              "          const docLinkHtml = 'Like what you see? Visit the ' +\n",
              "            '<a target=\"_blank\" href=https://colab.research.google.com/notebooks/data_table.ipynb>data table notebook</a>'\n",
              "            + ' to learn more about interactive tables.';\n",
              "          element.innerHTML = '';\n",
              "          dataTable['output_type'] = 'display_data';\n",
              "          await google.colab.output.renderOutput(dataTable, element);\n",
              "          const docLink = document.createElement('div');\n",
              "          docLink.innerHTML = docLinkHtml;\n",
              "          element.appendChild(docLink);\n",
              "        }\n",
              "      </script>\n",
              "    </div>\n",
              "  </div>\n",
              "  "
            ]
          },
          "metadata": {},
          "execution_count": 21
        }
      ]
    },
    {
      "cell_type": "code",
      "source": [
        "df['German'] = df['English'].apply(translator.translate, src='en', dest='de').apply(getattr, args=('text',))\n",
        "df['French'] = df['English'].apply(translator.translate, src='en', dest='fr').apply(getattr, args=('text',))\n",
        "df\n"
      ],
      "metadata": {
        "colab": {
          "base_uri": "https://localhost:8080/",
          "height": 520
        },
        "id": "TPy_fUugwNvM",
        "outputId": "c43d855b-29a8-476d-ac35-05b8fb67e188"
      },
      "execution_count": 23,
      "outputs": [
        {
          "output_type": "execute_result",
          "data": {
            "text/plain": [
              "                                                  English  \\\n",
              "51452                             What are you scared of?   \n",
              "100423                     Who told you to bring me here?   \n",
              "17602                                   You're shivering.   \n",
              "168386  A journey of a thousand miles begins with a si...   \n",
              "135485              Was it hard for you to find my house?   \n",
              "...                                                   ...   \n",
              "96685                      I just thought you were happy.   \n",
              "41304                              I felt rather puzzled.   \n",
              "112162                   We have to keep working on that.   \n",
              "50622                             This is the guest room.   \n",
              "49215                             It's for you to decide.   \n",
              "\n",
              "                                                  Spanish  \\\n",
              "51452                               ¿De qué tienes miedo?   \n",
              "100423               ¿Quién te dijo que me trajeras aquí?   \n",
              "17602                                    Estás temblando.   \n",
              "168386  Un viaje de mil millas comienza con un solo paso.   \n",
              "135485                       ¿Te costó encontrar mi casa?   \n",
              "...                                                   ...   \n",
              "96685                          Solo pensé que eras feliz.   \n",
              "41304                    Me sentí bastante desconcertado.   \n",
              "112162              Tenemos que seguir trabajando en eso.   \n",
              "50622                 Esta es la habitación de invitados.   \n",
              "49215                           Es para que usted decida.   \n",
              "\n",
              "                                                   German  \\\n",
              "51452                            Wovor fürchtest du dich?   \n",
              "100423  Wer hat dir gesagt, dass du mich hierher bring...   \n",
              "17602                                        Du zitterst.   \n",
              "168386  Eine Reise von tausend Meilen beginnt mit eine...   \n",
              "135485       War es schwer für dich, mein Haus zu finden?   \n",
              "...                                                   ...   \n",
              "96685                 Ich dachte nur, du wärst glücklich.   \n",
              "41304                          Ich war ziemlich verwirrt.   \n",
              "112162                  Daran müssen wir weiter arbeiten.   \n",
              "50622                            Das ist das Gästezimmer.   \n",
              "49215                   Es liegt an Ihnen zu entscheiden.   \n",
              "\n",
              "                                                   French  \n",
              "51452                                 De quoi as-tu peur?  \n",
              "100423                      Qui t'a dit de m'amener ici ?  \n",
              "17602                                      Vous tremblez.  \n",
              "168386  Un voyage de mille kilomètres commence par un ...  \n",
              "135485  Cela a-t-il été difficile pour vous de trouver...  \n",
              "...                                                   ...  \n",
              "96685              Je pensais juste que tu étais heureux.  \n",
              "41304                      Je me sentais plutôt perplexe.  \n",
              "112162      Nous devons continuer à travailler là-dessus.  \n",
              "50622                            C'est la chambre d'amis.  \n",
              "49215                            C'est à vous de décider.  \n",
              "\n",
              "[176 rows x 4 columns]"
            ],
            "text/html": [
              "\n",
              "  <div id=\"df-aec0fcdd-7531-4f83-b944-b28db20a7868\">\n",
              "    <div class=\"colab-df-container\">\n",
              "      <div>\n",
              "<style scoped>\n",
              "    .dataframe tbody tr th:only-of-type {\n",
              "        vertical-align: middle;\n",
              "    }\n",
              "\n",
              "    .dataframe tbody tr th {\n",
              "        vertical-align: top;\n",
              "    }\n",
              "\n",
              "    .dataframe thead th {\n",
              "        text-align: right;\n",
              "    }\n",
              "</style>\n",
              "<table border=\"1\" class=\"dataframe\">\n",
              "  <thead>\n",
              "    <tr style=\"text-align: right;\">\n",
              "      <th></th>\n",
              "      <th>English</th>\n",
              "      <th>Spanish</th>\n",
              "      <th>German</th>\n",
              "      <th>French</th>\n",
              "    </tr>\n",
              "  </thead>\n",
              "  <tbody>\n",
              "    <tr>\n",
              "      <th>51452</th>\n",
              "      <td>What are you scared of?</td>\n",
              "      <td>¿De qué tienes miedo?</td>\n",
              "      <td>Wovor fürchtest du dich?</td>\n",
              "      <td>De quoi as-tu peur?</td>\n",
              "    </tr>\n",
              "    <tr>\n",
              "      <th>100423</th>\n",
              "      <td>Who told you to bring me here?</td>\n",
              "      <td>¿Quién te dijo que me trajeras aquí?</td>\n",
              "      <td>Wer hat dir gesagt, dass du mich hierher bring...</td>\n",
              "      <td>Qui t'a dit de m'amener ici ?</td>\n",
              "    </tr>\n",
              "    <tr>\n",
              "      <th>17602</th>\n",
              "      <td>You're shivering.</td>\n",
              "      <td>Estás temblando.</td>\n",
              "      <td>Du zitterst.</td>\n",
              "      <td>Vous tremblez.</td>\n",
              "    </tr>\n",
              "    <tr>\n",
              "      <th>168386</th>\n",
              "      <td>A journey of a thousand miles begins with a si...</td>\n",
              "      <td>Un viaje de mil millas comienza con un solo paso.</td>\n",
              "      <td>Eine Reise von tausend Meilen beginnt mit eine...</td>\n",
              "      <td>Un voyage de mille kilomètres commence par un ...</td>\n",
              "    </tr>\n",
              "    <tr>\n",
              "      <th>135485</th>\n",
              "      <td>Was it hard for you to find my house?</td>\n",
              "      <td>¿Te costó encontrar mi casa?</td>\n",
              "      <td>War es schwer für dich, mein Haus zu finden?</td>\n",
              "      <td>Cela a-t-il été difficile pour vous de trouver...</td>\n",
              "    </tr>\n",
              "    <tr>\n",
              "      <th>...</th>\n",
              "      <td>...</td>\n",
              "      <td>...</td>\n",
              "      <td>...</td>\n",
              "      <td>...</td>\n",
              "    </tr>\n",
              "    <tr>\n",
              "      <th>96685</th>\n",
              "      <td>I just thought you were happy.</td>\n",
              "      <td>Solo pensé que eras feliz.</td>\n",
              "      <td>Ich dachte nur, du wärst glücklich.</td>\n",
              "      <td>Je pensais juste que tu étais heureux.</td>\n",
              "    </tr>\n",
              "    <tr>\n",
              "      <th>41304</th>\n",
              "      <td>I felt rather puzzled.</td>\n",
              "      <td>Me sentí bastante desconcertado.</td>\n",
              "      <td>Ich war ziemlich verwirrt.</td>\n",
              "      <td>Je me sentais plutôt perplexe.</td>\n",
              "    </tr>\n",
              "    <tr>\n",
              "      <th>112162</th>\n",
              "      <td>We have to keep working on that.</td>\n",
              "      <td>Tenemos que seguir trabajando en eso.</td>\n",
              "      <td>Daran müssen wir weiter arbeiten.</td>\n",
              "      <td>Nous devons continuer à travailler là-dessus.</td>\n",
              "    </tr>\n",
              "    <tr>\n",
              "      <th>50622</th>\n",
              "      <td>This is the guest room.</td>\n",
              "      <td>Esta es la habitación de invitados.</td>\n",
              "      <td>Das ist das Gästezimmer.</td>\n",
              "      <td>C'est la chambre d'amis.</td>\n",
              "    </tr>\n",
              "    <tr>\n",
              "      <th>49215</th>\n",
              "      <td>It's for you to decide.</td>\n",
              "      <td>Es para que usted decida.</td>\n",
              "      <td>Es liegt an Ihnen zu entscheiden.</td>\n",
              "      <td>C'est à vous de décider.</td>\n",
              "    </tr>\n",
              "  </tbody>\n",
              "</table>\n",
              "<p>176 rows × 4 columns</p>\n",
              "</div>\n",
              "      <button class=\"colab-df-convert\" onclick=\"convertToInteractive('df-aec0fcdd-7531-4f83-b944-b28db20a7868')\"\n",
              "              title=\"Convert this dataframe to an interactive table.\"\n",
              "              style=\"display:none;\">\n",
              "        \n",
              "  <svg xmlns=\"http://www.w3.org/2000/svg\" height=\"24px\"viewBox=\"0 0 24 24\"\n",
              "       width=\"24px\">\n",
              "    <path d=\"M0 0h24v24H0V0z\" fill=\"none\"/>\n",
              "    <path d=\"M18.56 5.44l.94 2.06.94-2.06 2.06-.94-2.06-.94-.94-2.06-.94 2.06-2.06.94zm-11 1L8.5 8.5l.94-2.06 2.06-.94-2.06-.94L8.5 2.5l-.94 2.06-2.06.94zm10 10l.94 2.06.94-2.06 2.06-.94-2.06-.94-.94-2.06-.94 2.06-2.06.94z\"/><path d=\"M17.41 7.96l-1.37-1.37c-.4-.4-.92-.59-1.43-.59-.52 0-1.04.2-1.43.59L10.3 9.45l-7.72 7.72c-.78.78-.78 2.05 0 2.83L4 21.41c.39.39.9.59 1.41.59.51 0 1.02-.2 1.41-.59l7.78-7.78 2.81-2.81c.8-.78.8-2.07 0-2.86zM5.41 20L4 18.59l7.72-7.72 1.47 1.35L5.41 20z\"/>\n",
              "  </svg>\n",
              "      </button>\n",
              "      \n",
              "  <style>\n",
              "    .colab-df-container {\n",
              "      display:flex;\n",
              "      flex-wrap:wrap;\n",
              "      gap: 12px;\n",
              "    }\n",
              "\n",
              "    .colab-df-convert {\n",
              "      background-color: #E8F0FE;\n",
              "      border: none;\n",
              "      border-radius: 50%;\n",
              "      cursor: pointer;\n",
              "      display: none;\n",
              "      fill: #1967D2;\n",
              "      height: 32px;\n",
              "      padding: 0 0 0 0;\n",
              "      width: 32px;\n",
              "    }\n",
              "\n",
              "    .colab-df-convert:hover {\n",
              "      background-color: #E2EBFA;\n",
              "      box-shadow: 0px 1px 2px rgba(60, 64, 67, 0.3), 0px 1px 3px 1px rgba(60, 64, 67, 0.15);\n",
              "      fill: #174EA6;\n",
              "    }\n",
              "\n",
              "    [theme=dark] .colab-df-convert {\n",
              "      background-color: #3B4455;\n",
              "      fill: #D2E3FC;\n",
              "    }\n",
              "\n",
              "    [theme=dark] .colab-df-convert:hover {\n",
              "      background-color: #434B5C;\n",
              "      box-shadow: 0px 1px 3px 1px rgba(0, 0, 0, 0.15);\n",
              "      filter: drop-shadow(0px 1px 2px rgba(0, 0, 0, 0.3));\n",
              "      fill: #FFFFFF;\n",
              "    }\n",
              "  </style>\n",
              "\n",
              "      <script>\n",
              "        const buttonEl =\n",
              "          document.querySelector('#df-aec0fcdd-7531-4f83-b944-b28db20a7868 button.colab-df-convert');\n",
              "        buttonEl.style.display =\n",
              "          google.colab.kernel.accessAllowed ? 'block' : 'none';\n",
              "\n",
              "        async function convertToInteractive(key) {\n",
              "          const element = document.querySelector('#df-aec0fcdd-7531-4f83-b944-b28db20a7868');\n",
              "          const dataTable =\n",
              "            await google.colab.kernel.invokeFunction('convertToInteractive',\n",
              "                                                     [key], {});\n",
              "          if (!dataTable) return;\n",
              "\n",
              "          const docLinkHtml = 'Like what you see? Visit the ' +\n",
              "            '<a target=\"_blank\" href=https://colab.research.google.com/notebooks/data_table.ipynb>data table notebook</a>'\n",
              "            + ' to learn more about interactive tables.';\n",
              "          element.innerHTML = '';\n",
              "          dataTable['output_type'] = 'display_data';\n",
              "          await google.colab.output.renderOutput(dataTable, element);\n",
              "          const docLink = document.createElement('div');\n",
              "          docLink.innerHTML = docLinkHtml;\n",
              "          element.appendChild(docLink);\n",
              "        }\n",
              "      </script>\n",
              "    </div>\n",
              "  </div>\n",
              "  "
            ]
          },
          "metadata": {},
          "execution_count": 23
        }
      ]
    }
  ]
}